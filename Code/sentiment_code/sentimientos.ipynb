{
 "cells": [
  {
   "cell_type": "code",
   "execution_count": 16,
   "metadata": {},
   "outputs": [
    {
     "name": "stderr",
     "output_type": "stream",
     "text": [
      "c:\\Universidad\\Legislacion\\Scrapy threads\\Analisis de sentimientos\\sentiment_analysis\\sentiment\\Lib\\site-packages\\huggingface_hub\\file_download.py:159: UserWarning: `huggingface_hub` cache-system uses symlinks by default to efficiently store duplicated files but your machine does not support them in C:\\Users\\andre\\.cache\\huggingface\\hub\\models--nlptown--bert-base-multilingual-uncased-sentiment. Caching files will still work but in a degraded version that might require more space on your disk. This warning can be disabled by setting the `HF_HUB_DISABLE_SYMLINKS_WARNING` environment variable. For more details, see https://huggingface.co/docs/huggingface_hub/how-to-cache#limitations.\n",
      "To support symlinks on Windows, you either need to activate Developer Mode or to run Python as an administrator. In order to see activate developer mode, see this article: https://docs.microsoft.com/en-us/windows/apps/get-started/enable-your-device-for-development\n",
      "  warnings.warn(message)\n"
     ]
    }
   ],
   "source": [
    "from transformers import BertTokenizer, BertForSequenceClassification\n",
    "import torch\n",
    "\n",
    "# Cargar el tokenizer y el modelo preentrenado para análisis de sentimientos\n",
    "tokenizer = BertTokenizer.from_pretrained(\"nlptown/bert-base-multilingual-uncased-sentiment\")\n",
    "model = BertForSequenceClassification.from_pretrained(\"nlptown/bert-base-multilingual-uncased-sentiment\")"
   ]
  },
  {
   "cell_type": "code",
   "execution_count": 20,
   "metadata": {},
   "outputs": [],
   "source": [
    "def predict_sentiment(comment):\n",
    "    # Tokenizar el comentario\n",
    "    inputs = tokenizer.encode_plus(comment, return_tensors='pt', truncation=True)\n",
    "\n",
    "    # Obtener las predicciones del modelo\n",
    "    with torch.no_grad():\n",
    "        outputs = model(**inputs)\n",
    "        predictions = torch.softmax(outputs.logits, dim=1)\n",
    "\n",
    "    # Obtener la clase predicha (0: muy negativo, 1: negativo, 2: neutral, 3: positivo, 4: muy positivo)\n",
    "    predicted_class = predictions.argmax().item()\n",
    "\n",
    "    # Mapear la clase a su descripción\n",
    "    sentiment_labels = [\"Muy Negativo\", \"Negativo\", \"Neutral\", \"Positivo\", \"Muy Positivo\"]\n",
    "    predicted_sentiment = sentiment_labels[predicted_class]\n",
    "\n",
    "    return predicted_sentiment\n"
   ]
  },
  {
   "cell_type": "code",
   "execution_count": 21,
   "metadata": {},
   "outputs": [
    {
     "name": "stdout",
     "output_type": "stream",
     "text": [
      "El sentimiento del comentario es: Muy Negativo\n"
     ]
    }
   ],
   "source": [
    "# Comentario para analizar\n",
    "comment = \"No me gusta ese tema #presidente\"\n",
    "\n",
    "# Predecir el sentimiento del comentario\n",
    "sentiment = predict_sentiment(comment)\n",
    "\n",
    "print(f\"El sentimiento del comentario es: {sentiment}\")"
   ]
  }
 ],
 "metadata": {
  "kernelspec": {
   "display_name": "sentiment",
   "language": "python",
   "name": "python3"
  },
  "language_info": {
   "codemirror_mode": {
    "name": "ipython",
    "version": 3
   },
   "file_extension": ".py",
   "mimetype": "text/x-python",
   "name": "python",
   "nbconvert_exporter": "python",
   "pygments_lexer": "ipython3",
   "version": "3.11.9"
  }
 },
 "nbformat": 4,
 "nbformat_minor": 2
}
